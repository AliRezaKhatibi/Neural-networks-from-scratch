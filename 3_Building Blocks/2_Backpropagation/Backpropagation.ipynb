{
 "cells": [
  {
   "cell_type": "markdown",
   "id": "4b2a5179-1425-4927-9c92-842c1ed9bbc7",
   "metadata": {},
   "source": [
    "# Backpropagation: Training Neural Networks\n",
    "\n",
    "## **Introduction**\n",
    "**Backpropagation** is the process of computing the gradient of the loss function with respect to the weights and biases of a neural network. These gradients are then used to update the weights and biases, minimizing the error.\n",
    "\n",
    "In this notebook, we will implement backpropagation for a simple neural network with one hidden layer.\n",
    "\n",
    "---\n",
    "\n",
    "## **Key Concepts**\n",
    "- **Loss Function:** Measures the difference between predictions and actual values.\n",
    "- **Gradient Descent:** Updates weights and biases to minimize the loss.\n",
    "- **Chain Rule:** Used to compute gradients in backpropagation.\n",
    "\n",
    "---\n",
    "\n",
    "## **Implementation**\n",
    "Below is the Python code for implementing backpropagation in a neural network.\n"
   ]
  },
  {
   "cell_type": "code",
   "execution_count": 2,
   "id": "650218fa-663f-4fab-aad5-e6e497342ec4",
   "metadata": {},
   "outputs": [
    {
     "name": "stdout",
     "output_type": "stream",
     "text": [
      "Updated weights and biases after backpropagation:\n",
      "Weights1: [[-0.28608815 -0.57181272 -0.01702193 -0.25645963]\n",
      " [-1.6026777  -0.43025456 -0.33094693 -1.83884951]\n",
      " [-0.56850638 -0.13709623 -0.79287104  0.89314337]]\n",
      "Bias1: [ 0.22214242  2.38267719 -0.8723597   3.16526599]\n",
      "Weights2: [[ 0.27088325]\n",
      " [-0.57498957]\n",
      " [ 0.29681306]\n",
      " [-0.74238982]]\n",
      "Bias2: [0.86972894]\n"
     ]
    }
   ],
   "source": [
    "import numpy as np\n",
    "\n",
    "class NeuralNetwork:\n",
    "    def __init__(self, input_size, hidden_size, output_size):\n",
    "        # Initialize weights and biases randomly\n",
    "        self.weights1 = np.random.randn(input_size, hidden_size)\n",
    "        self.bias1 = np.random.randn(hidden_size)\n",
    "        self.weights2 = np.random.randn(hidden_size, output_size)\n",
    "        self.bias2 = np.random.randn(output_size)\n",
    "\n",
    "    def sigmoid(self, x):\n",
    "        # Sigmoid activation function\n",
    "        return 1 / (1 + np.exp(-x))\n",
    "\n",
    "    def sigmoid_derivative(self, x):\n",
    "        # Derivative of the sigmoid function\n",
    "        return x * (1 - x)\n",
    "\n",
    "    def forward(self, X):\n",
    "        # Forward propagation\n",
    "        self.z1 = np.dot(X, self.weights1) + self.bias1\n",
    "        self.a1 = self.sigmoid(self.z1)\n",
    "        self.z2 = np.dot(self.a1, self.weights2) + self.bias2\n",
    "        self.a2 = self.sigmoid(self.z2)\n",
    "        return self.a2\n",
    "\n",
    "    def backward(self, X, y, output):\n",
    "        # Backpropagation\n",
    "        self.error = output - y\n",
    "        self.delta2 = self.error * self.sigmoid_derivative(output)\n",
    "        self.delta1 = np.dot(self.delta2, self.weights2.T) * self.sigmoid_derivative(self.a1)\n",
    "\n",
    "        # Update weights and biases\n",
    "        self.weights2 -= np.dot(self.a1.T, self.delta2)\n",
    "        self.bias2 -= np.sum(self.delta2, axis=0)\n",
    "        self.weights1 -= np.dot(X.T, self.delta1)\n",
    "        self.bias1 -= np.sum(self.delta1, axis=0)\n",
    "\n",
    "# Example usage\n",
    "if __name__ == \"__main__\":\n",
    "    # Input data (2 samples, 3 features each)\n",
    "    X = np.array([[0, 0, 1], [1, 1, 1]])\n",
    "    y = np.array([[0], [1]])  # Target labels\n",
    "\n",
    "    # Create a neural network\n",
    "    nn = NeuralNetwork(input_size=3, hidden_size=4, output_size=1)\n",
    "\n",
    "    # Perform forward propagation\n",
    "    output = nn.forward(X)\n",
    "\n",
    "    # Perform backpropagation\n",
    "    nn.backward(X, y, output)\n",
    "\n",
    "    print(\"Updated weights and biases after backpropagation:\")\n",
    "    print(\"Weights1:\", nn.weights1)\n",
    "    print(\"Bias1:\", nn.bias1)\n",
    "    print(\"Weights2:\", nn.weights2)\n",
    "    print(\"Bias2:\", nn.bias2)"
   ]
  },
  {
   "cell_type": "code",
   "execution_count": 1,
   "id": "8ca95139-0628-45b4-9b35-7cbf51e1908b",
   "metadata": {},
   "outputs": [],
   "source": [
    "# Finish"
   ]
  }
 ],
 "metadata": {
  "kernelspec": {
   "display_name": "Python 3 (ipykernel)",
   "language": "python",
   "name": "python3"
  },
  "language_info": {
   "codemirror_mode": {
    "name": "ipython",
    "version": 3
   },
   "file_extension": ".py",
   "mimetype": "text/x-python",
   "name": "python",
   "nbconvert_exporter": "python",
   "pygments_lexer": "ipython3",
   "version": "3.12.7"
  }
 },
 "nbformat": 4,
 "nbformat_minor": 5
}
