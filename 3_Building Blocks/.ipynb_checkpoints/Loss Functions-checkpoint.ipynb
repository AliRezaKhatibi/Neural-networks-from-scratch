{
 "cells": [
  {
   "cell_type": "markdown",
   "id": "1d3ab443-f1ed-4e5e-9b0e-3562c37ffdce",
   "metadata": {},
   "source": [
    "# Loss Functions: Measuring Model Performance\n",
    "\n",
    "## **Introduction**\n",
    "**Loss Functions** are used to measure the difference between the predictions of a model and the actual values. They play a crucial role in training neural networks, as the goal is to minimize the loss.\n",
    "\n",
    "In this notebook, we will implement two common loss functions:\n",
    "1. **Mean Squared Error (MSE):** Used for regression tasks.\n",
    "2. **Cross-Entropy Loss:** Used for classification tasks.\n",
    "\n",
    "---\n",
    "\n",
    "## **Key Concepts**\n",
    "- **Mean Squared Error (MSE):** Measures the average squared difference between predictions and actual values.\n",
    "- **Cross-Entropy Loss:** Measures the difference between two probability distributions (predicted and actual).\n",
    "\n",
    "---\n",
    "\n",
    "## **Implementation**\n",
    "Below is the Python code for implementing MSE and Cross-Entropy Loss."
   ]
  },
  {
   "cell_type": "code",
   "execution_count": 1,
   "id": "baa1fb73-9b2e-4bdd-8516-90c83fa13623",
   "metadata": {},
   "outputs": [
    {
     "name": "stdout",
     "output_type": "stream",
     "text": [
      "Mean Squared Error (MSE): 0.0375\n",
      "Cross-Entropy Loss: 0.19763488164214868\n"
     ]
    }
   ],
   "source": [
    "import numpy as np\n",
    "\n",
    "# Mean Squared Error (MSE)\n",
    "def mean_squared_error(y_true, y_pred):\n",
    "    return np.mean((y_true - y_pred) ** 2)\n",
    "\n",
    "# Cross-Entropy Loss\n",
    "def cross_entropy_loss(y_true, y_pred):\n",
    "    epsilon = 1e-15  # To avoid log(0)\n",
    "    y_pred = np.clip(y_pred, epsilon, 1 - epsilon)\n",
    "    return -np.mean(y_true * np.log(y_pred) + (1 - y_true) * np.log(1 - y_pred))\n",
    "\n",
    "# Example usage\n",
    "if __name__ == \"__main__\":\n",
    "    # True labels and predictions\n",
    "    y_true = np.array([1, 0, 1, 1])\n",
    "    y_pred = np.array([0.9, 0.1, 0.8, 0.7])\n",
    "\n",
    "    # Calculate MSE\n",
    "    mse = mean_squared_error(y_true, y_pred)\n",
    "    print(\"Mean Squared Error (MSE):\", mse)\n",
    "\n",
    "    # Calculate Cross-Entropy Loss\n",
    "    ce_loss = cross_entropy_loss(y_true, y_pred)\n",
    "    print(\"Cross-Entropy Loss:\", ce_loss)"
   ]
  },
  {
   "cell_type": "code",
   "execution_count": null,
   "id": "5c831e0c-64c2-4a2e-b86f-30d6a9735ddf",
   "metadata": {},
   "outputs": [],
   "source": [
    "# Finish"
   ]
  }
 ],
 "metadata": {
  "kernelspec": {
   "display_name": "Python 3 (ipykernel)",
   "language": "python",
   "name": "python3"
  },
  "language_info": {
   "codemirror_mode": {
    "name": "ipython",
    "version": 3
   },
   "file_extension": ".py",
   "mimetype": "text/x-python",
   "name": "python",
   "nbconvert_exporter": "python",
   "pygments_lexer": "ipython3",
   "version": "3.12.7"
  }
 },
 "nbformat": 4,
 "nbformat_minor": 5
}
