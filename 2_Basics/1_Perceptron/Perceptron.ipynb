{
 "cells": [
  {
   "cell_type": "markdown",
   "id": "f7421162-a790-45fe-8b79-93b5f7f5adbf",
   "metadata": {},
   "source": [
    "# Perceptron: The Building Block of Neural Networks\n",
    "\n",
    "## **Introduction**\n",
    "The **Perceptron** is the simplest form of a neural network and serves as the foundation for more complex architectures. It is a single-layer neural network that can be used for binary classification tasks. The perceptron learns by adjusting its weights and bias based on the error between its predictions and the actual labels.\n",
    "\n",
    "## **Key Concepts**\n",
    "- **Input Layer:** Receives the input features.\n",
    "- **Weights and Bias:** Parameters that the perceptron learns during training.\n",
    "- **Activation Function:** A step function that determines the output of the perceptron.\n",
    "- **Learning Rule:** Updates the weights and bias based on the error.\n",
    "\n",
    "## **Applications**\n",
    "- Binary classification (e.g., AND, OR operations).\n",
    "- Understanding the basics of neural networks.\n",
    "\n",
    "---\n",
    "\n",
    "## **Implementation**\n",
    "In this notebook, we will:\n",
    "1. Implement a simple perceptron from scratch.\n",
    "2. Train it on a basic dataset (e.g., AND operation).\n",
    "3. Test its predictions.\n",
    "\n",
    "Let's get started! 🚀"
   ]
  },
  {
   "cell_type": "code",
   "execution_count": 1,
   "id": "c37cada4-d2d5-4ce7-9a67-92fc4bbdfb5d",
   "metadata": {},
   "outputs": [
    {
     "name": "stdout",
     "output_type": "stream",
     "text": [
      "Predictions:\n",
      "Input: [0 0], Output: 0\n",
      "Input: [0 1], Output: 0\n",
      "Input: [1 0], Output: 0\n",
      "Input: [1 1], Output: 1\n"
     ]
    }
   ],
   "source": [
    "import numpy as np\n",
    "\n",
    "class Perceptron:\n",
    "    def __init__(self, input_size, lr=0.01):\n",
    "        \"\"\"\n",
    "        Initialize the perceptron.\n",
    "        - input_size: Number of input features.\n",
    "        - lr: Learning rate.\n",
    "        \"\"\"\n",
    "        self.weights = np.zeros(input_size)\n",
    "        self.bias = 0\n",
    "        self.lr = lr\n",
    "\n",
    "    def activation(self, x):\n",
    "        \"\"\"\n",
    "        Step activation function.\n",
    "        - x: Input value.\n",
    "        \"\"\"\n",
    "        return 1 if x >= 0 else 0\n",
    "\n",
    "    def predict(self, inputs):\n",
    "        \"\"\"\n",
    "        Predict the output for given inputs.\n",
    "        - inputs: Input features.\n",
    "        \"\"\"\n",
    "        weighted_sum = np.dot(inputs, self.weights) + self.bias\n",
    "        return self.activation(weighted_sum)\n",
    "\n",
    "    def train(self, inputs, labels, epochs=100):\n",
    "        \"\"\"\n",
    "        Train the perceptron.\n",
    "        - inputs: Training data.\n",
    "        - labels: Target labels.\n",
    "        - epochs: Number of training iterations.\n",
    "        \"\"\"\n",
    "        for _ in range(epochs):\n",
    "            for x, y in zip(inputs, labels):\n",
    "                prediction = self.predict(x)\n",
    "                error = y - prediction\n",
    "                self.weights += self.lr * error * x\n",
    "                self.bias += self.lr * error\n",
    "\n",
    "# Example usage\n",
    "if __name__ == \"__main__\":\n",
    "    # Input data (3 samples, 2 features each)\n",
    "    inputs = np.array([[0, 0], [0, 1], [1, 0], [1, 1]])\n",
    "    labels = np.array([0, 0, 0, 1])  # AND operation\n",
    "\n",
    "    # Create a perceptron\n",
    "    perceptron = Perceptron(input_size=2, lr=0.1)\n",
    "\n",
    "    # Train the perceptron\n",
    "    perceptron.train(inputs, labels, epochs=100)\n",
    "\n",
    "    # Test the perceptron\n",
    "    print(\"Predictions:\")\n",
    "    for x in inputs:\n",
    "        print(f\"Input: {x}, Output: {perceptron.predict(x)}\")"
   ]
  },
  {
   "cell_type": "code",
   "execution_count": null,
   "id": "6d84ef2f-02c1-461f-a249-d6963f84ec8b",
   "metadata": {},
   "outputs": [],
   "source": [
    "# finish"
   ]
  }
 ],
 "metadata": {
  "kernelspec": {
   "display_name": "Python 3 (ipykernel)",
   "language": "python",
   "name": "python3"
  },
  "language_info": {
   "codemirror_mode": {
    "name": "ipython",
    "version": 3
   },
   "file_extension": ".py",
   "mimetype": "text/x-python",
   "name": "python",
   "nbconvert_exporter": "python",
   "pygments_lexer": "ipython3",
   "version": "3.12.7"
  }
 },
 "nbformat": 4,
 "nbformat_minor": 5
}
