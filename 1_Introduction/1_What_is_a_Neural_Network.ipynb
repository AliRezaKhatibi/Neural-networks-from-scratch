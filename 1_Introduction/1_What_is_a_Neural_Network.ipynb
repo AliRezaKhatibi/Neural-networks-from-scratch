{
 "cells": [
  {
   "cell_type": "markdown",
   "id": "a7e0cf49-9106-4827-ada3-2db57c93e60b",
   "metadata": {},
   "source": [
    "# What is a Neural Network?\n",
    "\n",
    "In this notebook, we will explore the basics of neural networks, their structure, and their applications.\n",
    "\n",
    "---\n",
    "\n",
    "## **1. Introduction to Neural Networks**\n",
    "\n",
    "A **Neural Network** is a computational model inspired by the human brain. It consists of layers of interconnected nodes (called neurons) that work together to solve specific problems, such as classification, regression, or pattern recognition.\n",
    "\n",
    "### Key Components of a Neural Network:\n",
    "1. **Input Layer:** Receives the input data.\n",
    "2. **Hidden Layers:** Perform computations and extract features.\n",
    "3. **Output Layer:** Produces the final result (e.g., a prediction).\n",
    "4. **Weights and Biases:** Parameters that the network learns during training.\n",
    "5. **Activation Functions:** Introduce non-linearity into the model (e.g., ReLU, Sigmoid).\n",
    "\n",
    "---\n",
    "\n",
    "## **2. Why Use Neural Networks?**\n",
    "\n",
    "Neural networks are powerful because:\n",
    "- They can learn complex patterns in data.\n",
    "- They are highly flexible and can be applied to various tasks (e.g., image recognition, natural language processing).\n",
    "- They perform well with large datasets.\n",
    "\n",
    "---\n",
    "\n",
    "## **3. Applications of Neural Networks**\n",
    "\n",
    "Neural networks are used in many fields, including:\n",
    "- **Computer Vision:** Image classification, object detection.\n",
    "- **Natural Language Processing (NLP):** Text generation, sentiment analysis.\n",
    "- **Healthcare:** Disease diagnosis, drug discovery.\n",
    "- **Finance:** Stock price prediction, fraud detection.\n",
    "\n",
    "---\n",
    "\n",
    "## **4. A Simple Neural Network in Python**\n",
    "\n",
    "Let's implement a very basic neural network using Python and NumPy."
   ]
  },
  {
   "cell_type": "code",
   "execution_count": 12,
   "id": "847ca828-70b9-4b34-a544-bbcfb99fa3f5",
   "metadata": {},
   "outputs": [
    {
     "name": "stdout",
     "output_type": "stream",
     "text": [
      "Output of the neural network:\n",
      "[[0.84389515]\n",
      " [0.96090055]\n",
      " [0.93428966]]\n"
     ]
    }
   ],
   "source": [
    "# Python Code\n",
    "import numpy as np\n",
    "np.random.seed(4)\n",
    "\n",
    "# Define a simple neural network\n",
    "class SimpleNeuralNetwork:\n",
    "    def __init__(self):\n",
    "        # Initialize weights and bias randomly\n",
    "        self.weights = np.random.rand(3, 1)  # 3 input features, 1 output\n",
    "        self.bias = np.random.rand(1)\n",
    "\n",
    "    def sigmoid(self, x):\n",
    "        # Sigmoid activation function\n",
    "        return 1 / (1 + np.exp(-x))\n",
    "\n",
    "    def forward(self, inputs):\n",
    "        # Forward propagation\n",
    "        weighted_sum = np.dot(inputs, self.weights) + self.bias\n",
    "        return self.sigmoid(weighted_sum)\n",
    "\n",
    "# Example usage\n",
    "if __name__ == \"__main__\":\n",
    "    # Input data (3 samples, 3 features each)\n",
    "    inputs = np.array([[0, 0, 1],\n",
    "                       [1, 1, 1],\n",
    "                       [1, 0, 1]])\n",
    "\n",
    "    # Create a neural network\n",
    "    nn = SimpleNeuralNetwork()\n",
    "\n",
    "    # Perform forward propagation\n",
    "    output = nn.forward(inputs)\n",
    "    print(\"Output of the neural network:\")\n",
    "    print(output)"
   ]
  },
  {
   "cell_type": "code",
   "execution_count": null,
   "id": "c5f31997-3b0c-421c-9440-20e2c924cdcf",
   "metadata": {},
   "outputs": [],
   "source": [
    "# finish"
   ]
  }
 ],
 "metadata": {
  "kernelspec": {
   "display_name": "Python 3 (ipykernel)",
   "language": "python",
   "name": "python3"
  },
  "language_info": {
   "codemirror_mode": {
    "name": "ipython",
    "version": 3
   },
   "file_extension": ".py",
   "mimetype": "text/x-python",
   "name": "python",
   "nbconvert_exporter": "python",
   "pygments_lexer": "ipython3",
   "version": "3.12.7"
  }
 },
 "nbformat": 4,
 "nbformat_minor": 5
}
